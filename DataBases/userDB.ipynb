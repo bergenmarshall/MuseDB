{
 "cells": [
  {
   "cell_type": "code",
   "execution_count": 122,
   "metadata": {},
   "outputs": [
    {
     "data": {
      "text/html": [
       "<div>\n",
       "<style scoped>\n",
       "    .dataframe tbody tr th:only-of-type {\n",
       "        vertical-align: middle;\n",
       "    }\n",
       "\n",
       "    .dataframe tbody tr th {\n",
       "        vertical-align: top;\n",
       "    }\n",
       "\n",
       "    .dataframe thead th {\n",
       "        text-align: right;\n",
       "    }\n",
       "</style>\n",
       "<table border=\"1\" class=\"dataframe\">\n",
       "  <thead>\n",
       "    <tr style=\"text-align: right;\">\n",
       "      <th></th>\n",
       "      <th>userID</th>\n",
       "      <th>username</th>\n",
       "      <th>password</th>\n",
       "    </tr>\n",
       "  </thead>\n",
       "  <tbody>\n",
       "    <tr>\n",
       "      <th>0</th>\n",
       "      <td>casey</td>\n",
       "      <td>caseyU</td>\n",
       "      <td>caseyP</td>\n",
       "    </tr>\n",
       "  </tbody>\n",
       "</table>\n",
       "</div>"
      ],
      "text/plain": [
       "  userID username password\n",
       "0  casey   caseyU   caseyP"
      ]
     },
     "metadata": {},
     "output_type": "display_data"
    }
   ],
   "source": [
    "import numpy as np\n",
    "import pandas as pd\n",
    "import csv\n",
    "from pathlib import Path  \n",
    "\n",
    "\n",
    "def newUser(df, FuserID, Fusername, Fpassword):\n",
    "    df.loc[len(df.index)] = [FuserID, Fusername, Fpassword] \n",
    "    return df\n",
    "\n",
    "\n",
    "df = pd.DataFrame({'userID': ['casey'],\n",
    "                    'username': ['caseyU'],\n",
    "                    'password': ['caseyP']})\n",
    "\n",
    "display(df)\n",
    "\n",
    "df.to_csv('userDB.csv', index = False)  "
   ]
  },
  {
   "cell_type": "code",
   "execution_count": 123,
   "metadata": {},
   "outputs": [
    {
     "data": {
      "text/html": [
       "<div>\n",
       "<style scoped>\n",
       "    .dataframe tbody tr th:only-of-type {\n",
       "        vertical-align: middle;\n",
       "    }\n",
       "\n",
       "    .dataframe tbody tr th {\n",
       "        vertical-align: top;\n",
       "    }\n",
       "\n",
       "    .dataframe thead th {\n",
       "        text-align: right;\n",
       "    }\n",
       "</style>\n",
       "<table border=\"1\" class=\"dataframe\">\n",
       "  <thead>\n",
       "    <tr style=\"text-align: right;\">\n",
       "      <th></th>\n",
       "      <th>userID</th>\n",
       "      <th>username</th>\n",
       "      <th>password</th>\n",
       "    </tr>\n",
       "  </thead>\n",
       "  <tbody>\n",
       "    <tr>\n",
       "      <th>0</th>\n",
       "      <td>casey</td>\n",
       "      <td>caseyU</td>\n",
       "      <td>caseyP</td>\n",
       "    </tr>\n",
       "    <tr>\n",
       "      <th>1</th>\n",
       "      <td>bergen</td>\n",
       "      <td>bergenU</td>\n",
       "      <td>bergenP</td>\n",
       "    </tr>\n",
       "    <tr>\n",
       "      <th>2</th>\n",
       "      <td>joseph</td>\n",
       "      <td>josephU</td>\n",
       "      <td>josephP</td>\n",
       "    </tr>\n",
       "    <tr>\n",
       "      <th>3</th>\n",
       "      <td>lucas</td>\n",
       "      <td>lucasU</td>\n",
       "      <td>lucasP</td>\n",
       "    </tr>\n",
       "  </tbody>\n",
       "</table>\n",
       "</div>"
      ],
      "text/plain": [
       "   userID username password\n",
       "0   casey   caseyU   caseyP\n",
       "1  bergen  bergenU  bergenP\n",
       "2  joseph  josephU  josephP\n",
       "3   lucas   lucasU   lucasP"
      ]
     },
     "metadata": {},
     "output_type": "display_data"
    }
   ],
   "source": [
    "import numpy as np\n",
    "import pandas as pd\n",
    "import csv\n",
    "from pathlib import Path  \n",
    "\n",
    "def newUser(df, FuserID, Fusername, Fpassword):\n",
    "    df.loc[len(df.index)] = [FuserID, Fusername, Fpassword] \n",
    "    return df\n",
    "\n",
    "df = pd.read_csv('userDB.csv')\n",
    "\n",
    "df = newUser(df, 'bergen', 'bergenU', 'bergenP')\n",
    "df = newUser(df, 'joseph', 'josephU', 'josephP')\n",
    "df = newUser(df, 'lucas', 'lucasU', 'lucasP')\n",
    "\n",
    "display(df)\n",
    "\n",
    "df.to_csv('userDB.csv', index = False)  "
   ]
  }
 ],
 "metadata": {
  "kernelspec": {
   "display_name": "Python 3",
   "language": "python",
   "name": "python3"
  },
  "language_info": {
   "codemirror_mode": {
    "name": "ipython",
    "version": 3
   },
   "file_extension": ".py",
   "mimetype": "text/x-python",
   "name": "python",
   "nbconvert_exporter": "python",
   "pygments_lexer": "ipython3",
   "version": "3.10.2"
  },
  "orig_nbformat": 4,
  "vscode": {
   "interpreter": {
    "hash": "b00ac053aa50ef680a1675e5bb4ab7c76526d6ff3c83c8cd1a2d4d1f5abf1789"
   }
  }
 },
 "nbformat": 4,
 "nbformat_minor": 2
}
