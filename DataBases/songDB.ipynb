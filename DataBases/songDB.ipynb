{
 "cells": [
  {
   "cell_type": "code",
   "execution_count": 9,
   "metadata": {},
   "outputs": [
    {
     "data": {
      "text/html": [
       "<div>\n",
       "<style scoped>\n",
       "    .dataframe tbody tr th:only-of-type {\n",
       "        vertical-align: middle;\n",
       "    }\n",
       "\n",
       "    .dataframe tbody tr th {\n",
       "        vertical-align: top;\n",
       "    }\n",
       "\n",
       "    .dataframe thead th {\n",
       "        text-align: right;\n",
       "    }\n",
       "</style>\n",
       "<table border=\"1\" class=\"dataframe\">\n",
       "  <thead>\n",
       "    <tr style=\"text-align: right;\">\n",
       "      <th></th>\n",
       "      <th>userID</th>\n",
       "      <th>songID</th>\n",
       "      <th>rating</th>\n",
       "    </tr>\n",
       "  </thead>\n",
       "  <tbody>\n",
       "    <tr>\n",
       "      <th>0</th>\n",
       "      <td>casey</td>\n",
       "      <td>Filler</td>\n",
       "      <td>5</td>\n",
       "    </tr>\n",
       "  </tbody>\n",
       "</table>\n",
       "</div>"
      ],
      "text/plain": [
       "  userID  songID  rating\n",
       "0  casey  Filler       5"
      ]
     },
     "metadata": {},
     "output_type": "display_data"
    }
   ],
   "source": [
    "import numpy as np\n",
    "import pandas as pd\n",
    "import csv\n",
    "from pathlib import Path  \n",
    "\n",
    "\n",
    "def newUser(df, FuserID, FsongID, Frating):\n",
    "    df.loc[len(df.index)] = [FuserID, FsongID, Frating] \n",
    "    return df\n",
    "\n",
    "\n",
    "df = pd.DataFrame({'userID': ['casey'],\n",
    "                    'songID': ['Filler'],\n",
    "                    'rating': [5]})\n",
    "\n",
    "display(df)\n",
    "\n",
    "df.to_csv('songDB.csv', index = False)  "
   ]
  },
  {
   "cell_type": "code",
   "execution_count": 10,
   "metadata": {},
   "outputs": [
    {
     "data": {
      "text/html": [
       "<div>\n",
       "<style scoped>\n",
       "    .dataframe tbody tr th:only-of-type {\n",
       "        vertical-align: middle;\n",
       "    }\n",
       "\n",
       "    .dataframe tbody tr th {\n",
       "        vertical-align: top;\n",
       "    }\n",
       "\n",
       "    .dataframe thead th {\n",
       "        text-align: right;\n",
       "    }\n",
       "</style>\n",
       "<table border=\"1\" class=\"dataframe\">\n",
       "  <thead>\n",
       "    <tr style=\"text-align: right;\">\n",
       "      <th></th>\n",
       "      <th>userID</th>\n",
       "      <th>songID</th>\n",
       "      <th>rating</th>\n",
       "    </tr>\n",
       "  </thead>\n",
       "  <tbody>\n",
       "    <tr>\n",
       "      <th>0</th>\n",
       "      <td>casey</td>\n",
       "      <td>Filler</td>\n",
       "      <td>5</td>\n",
       "    </tr>\n",
       "    <tr>\n",
       "      <th>1</th>\n",
       "      <td>bergen</td>\n",
       "      <td>Filler</td>\n",
       "      <td>1</td>\n",
       "    </tr>\n",
       "    <tr>\n",
       "      <th>2</th>\n",
       "      <td>joseph</td>\n",
       "      <td>Filler</td>\n",
       "      <td>4</td>\n",
       "    </tr>\n",
       "    <tr>\n",
       "      <th>3</th>\n",
       "      <td>lucas</td>\n",
       "      <td>Filler</td>\n",
       "      <td>3</td>\n",
       "    </tr>\n",
       "  </tbody>\n",
       "</table>\n",
       "</div>"
      ],
      "text/plain": [
       "   userID  songID  rating\n",
       "0   casey  Filler       5\n",
       "1  bergen  Filler       1\n",
       "2  joseph  Filler       4\n",
       "3   lucas  Filler       3"
      ]
     },
     "metadata": {},
     "output_type": "display_data"
    }
   ],
   "source": [
    "import numpy as np\n",
    "import pandas as pd\n",
    "import csv\n",
    "from pathlib import Path  \n",
    "\n",
    "def newUser(df, FuserID, FsongID, Frating):\n",
    "    df.loc[len(df.index)] = [FuserID, FsongID, Frating] \n",
    "    return df\n",
    "\n",
    "df = pd.read_csv('songDB.csv')\n",
    "\n",
    "df = newUser(df, 'bergen', 'Filler', 1)\n",
    "df = newUser(df, 'joseph', 'Filler', 4)\n",
    "df = newUser(df, 'lucas', 'Filler', 3)\n",
    "\n",
    "display(df)\n",
    "\n",
    "df.to_csv('songDB.csv', index = False)  "
   ]
  }
 ],
 "metadata": {
  "kernelspec": {
   "display_name": "Python 3",
   "language": "python",
   "name": "python3"
  },
  "language_info": {
   "codemirror_mode": {
    "name": "ipython",
    "version": 3
   },
   "file_extension": ".py",
   "mimetype": "text/x-python",
   "name": "python",
   "nbconvert_exporter": "python",
   "pygments_lexer": "ipython3",
   "version": "3.10.2"
  },
  "orig_nbformat": 4,
  "vscode": {
   "interpreter": {
    "hash": "b00ac053aa50ef680a1675e5bb4ab7c76526d6ff3c83c8cd1a2d4d1f5abf1789"
   }
  }
 },
 "nbformat": 4,
 "nbformat_minor": 2
}
